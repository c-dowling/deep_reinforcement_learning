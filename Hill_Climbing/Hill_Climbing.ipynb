{
 "cells": [
  {
   "cell_type": "markdown",
   "metadata": {},
   "source": [
    "# Hill Climbing\n",
    "\n",
    "---\n",
    "\n",
    "In this notebook, we will implement a selection of simple policy-based methods with OpenAI Gym's Cartpole environment."
   ]
  },
  {
   "cell_type": "markdown",
   "metadata": {},
   "source": [
    "### 1. Import the Necessary Packages"
   ]
  },
  {
   "cell_type": "code",
   "execution_count": 1,
   "metadata": {},
   "outputs": [],
   "source": [
    "import gym\n",
    "import numpy as np\n",
    "from collections import deque\n",
    "import matplotlib.pyplot as plt\n",
    "%matplotlib inline"
   ]
  },
  {
   "cell_type": "markdown",
   "metadata": {},
   "source": [
    "### 2. Create an Agent"
   ]
  },
  {
   "cell_type": "code",
   "execution_count": 60,
   "metadata": {},
   "outputs": [
    {
     "name": "stdout",
     "output_type": "stream",
     "text": [
      "observation space: Box(-3.4028234663852886e+38, 3.4028234663852886e+38, (4,), float32)\n",
      "action space: Discrete(2)\n"
     ]
    }
   ],
   "source": [
    "env = gym.make('CartPole-v0')\n",
    "print('observation space:', env.observation_space)\n",
    "print('action space:', env.action_space)\n",
    "s_size = len(env.observation_space.high)\n",
    "a_size = env.action_space.n\n",
    "\n",
    "class Agent():\n",
    "    \"\"\"Interacts with the environment\"\"\"\n",
    "\n",
    "    def __init__(self, state_size, action_size, pop_size=1, gamma=1, noise_scale=1e-2, noise_update=0.25, elite_frac=0.2, stoch_act=False, method=\"vanilla\"):\n",
    "        \"\"\"Initialize an Agent object.\n",
    "\n",
    "        Params\n",
    "        ======\n",
    "            state_size (int): dimension of each state\n",
    "            action_size (int): dimension of each action\n",
    "            pop_size (int): number of new weights to compare each episode\n",
    "            gamma (float): discount parameter\n",
    "            noise_scale (int): amount of gaussian noise to add when updating weights\n",
    "            noise_update (float): percentage to increase/decrease noise scale by (sim anneal and adapt noise_scale)\n",
    "            elite_frac (float): percentage of top performers to use in update\n",
    "            stoch_act (bool): if \"True\" will enable stochastic outputs for action values\n",
    "            method (string):        \"vanilla\" = vanilla hill climbing\n",
    "                                    \"cross_ent\" = cross entropy\n",
    "                                    \"steep_asc\" = steepest ascent\n",
    "                                    \"evolution\" = evolution strategy\n",
    "                                    \"adapt_noise_scale\" = adaptive noise scaling\n",
    "        \"\"\"\n",
    "        self.method = method\n",
    "        self.gamma = gamma\n",
    "        self.noise_scale = noise_scale\n",
    "        self.noise_update = noise_update\n",
    "        self.n_elite = int(pop_size*elite_frac)\n",
    "        self.stoch_act = stoch_act\n",
    "        self.state_size = state_size\n",
    "        self.action_size = action_size\n",
    "        self.pop_size = pop_size\n",
    "        self.best_R = 0\n",
    "        self.best_w = 1e-4*np.random.rand(state_size, action_size)\n",
    "        self.new_w = 1e-4*np.random.rand(pop_size,state_size,action_size)\n",
    "\n",
    "        # Raise a warning if an invalid method type is selected\n",
    "        self.method_types = [\"vanilla\", \"steep_asc\", \"sim_anneal\", \"cross_ent\", \"evolution\", \"adapt_noise_scale\"]\n",
    "        if self.method not in self.method_types:\n",
    "            raise ValueError(\"Invalid sim type. Expected one of: %s\" % self.method_types)\n",
    "        if self.method == \"vanilla\" and self.pop_size > 1:\n",
    "            raise ValueError(\"Invalid population size. For vanilla hill climbing 'pop_size' must equal 1\")\n",
    "        elif self.method != \"vanilla\" and self.pop_size == 1:\n",
    "            raise ValueError(f\"Cannot perform {self.method} with population size of 1. To learn with only one set of weights, select 'vanilla' for method.\")\n",
    "\n",
    "    def forward(self, state, n):\n",
    "        \"\"\"Completes a forward pass through network.\"\"\"\n",
    "        x = np.dot(state, self.new_w[n])\n",
    "        return np.exp(x)/sum(np.exp(x))\n",
    "\n",
    "    def act(self, state, n):\n",
    "        \"\"\"Returns the probability that an agent selects each action.\"\"\"\n",
    "        probs = self.forward(state, n)\n",
    "        if self.stoch_act:\n",
    "            action = np.random.choice(self.action_size, p=probs) # option 1: stochastic policy\n",
    "        else:\n",
    "            action = np.argmax(probs)              # option 2: deterministic policy\n",
    "        return action\n",
    "\n",
    "    def simulate_episode(self, max_t, initial_state, new_pop_size=None):\n",
    "        \"\"\"Simulates an episode from an initial_state and returns the rewards for that episode at each timestep.\"\"\"\n",
    "        pop_size = self.pop_size if new_pop_size is None else new_pop_size\n",
    "\n",
    "        rewards = np.zeros((pop_size,max_t))\n",
    "        for n in range(pop_size):\n",
    "            env.reset()\n",
    "            state = initial_state\n",
    "            env.env.state = state\n",
    "            for t in range(max_t):\n",
    "                action = self.act(state, n)\n",
    "                state, reward, done, _ = env.step(action)\n",
    "                rewards[n][t] = reward\n",
    "                if done:\n",
    "                    break\n",
    "\n",
    "        return rewards\n",
    "\n",
    "    def apply_discounts(self, rewards, max_t, new_pop_size=None):\n",
    "        \"\"\"Returns a discounted sum of the rewards.\"\"\"\n",
    "        pop_size = self.pop_size if new_pop_size is None else new_pop_size\n",
    "        discounts = [self.gamma**i for i in range(max_t)]\n",
    "        discounted_rewards = np.empty((pop_size,max_t))\n",
    "        for n in range(pop_size):\n",
    "            discounted_rewards[n] = [a*b for a,b in zip(discounts, rewards[n])]\n",
    "        summed_discounted_rewards = np.sum(discounted_rewards,axis=1)\n",
    "\n",
    "        return summed_discounted_rewards\n",
    "\n",
    "    def update(self, Rs, max_t, initial_state):\n",
    "        \"\"\"Updates the best reward and best weights. Then sets the new weights for the next episode.\"\"\"\n",
    "        if self.method == \"vanilla\":\n",
    "            # If new rewards are better then the best weights update the weights\n",
    "            if Rs >= self.best_R:\n",
    "                self.best_R = Rs\n",
    "                self.best_w = self.new_w\n",
    "            self.new_w = self.best_w + (self.noise_scale * np.random.rand(*self.best_w.shape))\n",
    "\n",
    "        elif self.method in (\"steep_asc\", \"sim_anneal\", \"adapt_noise_scale\"):\n",
    "            new_best_R_idx = np.argmax(Rs)  # Get the index for the best rewards\n",
    "            if Rs[new_best_R_idx] >= self.best_R:\n",
    "                self.best_R = Rs[new_best_R_idx]\n",
    "                self.best_w = self.new_w[new_best_R_idx]\n",
    "                if self.method in (\"sim_anneal\", \"adapt_noise_scale\"):\n",
    "                    # Decrease the noise perimeter if our rewards improved\n",
    "                    self.noise_scale = self.noise_scale * (1 - self.noise_update)\n",
    "            else:\n",
    "                if self.method == \"adapt_noise_scale\":\n",
    "                    # Increase our noise perimeter if our agent has stalled\n",
    "                    self.noise_scale = self.noise_scale * (1 + self.noise_update)\n",
    "            for n in range(self.pop_size):\n",
    "                self.new_w[n] = self.best_w + (self.noise_scale * np.random.rand(*self.best_w.shape))\n",
    "\n",
    "        elif self.method == \"cross_ent\":\n",
    "            # Index our cumulative reward values and sort in descending order\n",
    "            ranked_R_idx = np.argsort(-1*Rs)\n",
    "            # Select the best scores and their corresponding weights\n",
    "            elite_R_idx = ranked_R_idx[:self.n_elite]\n",
    "            elite_ws = [self.new_w[idx,:,:] for idx in elite_R_idx]\n",
    "            # Average the best weights and find their corresponding reward\n",
    "            self.new_w = np.array(elite_ws).mean(axis=0)\n",
    "            self.new_w = np.expand_dims(self.new_w,axis=0)\n",
    "\n",
    "            # Run a simulation with our best averaged weights\n",
    "            new_best_R = self.simulate_episode(max_t,initial_state,new_pop_size=1)\n",
    "            new_best_discount_R = self.apply_discounts(new_best_R, max_t, new_pop_size=1)\n",
    "\n",
    "            # Compare our new reward with our best reward and update weights\n",
    "            if new_best_discount_R >= self.best_R:\n",
    "                self.best_R = new_best_discount_R\n",
    "                self.best_w = self.new_w.squeeze()\n",
    "            self.new_w = np.zeros((self.pop_size,self.state_size,self.action_size))\n",
    "            for n in range(self.pop_size):\n",
    "                self.new_w[n] = self.best_w + (self.noise_scale * np.random.rand(*self.best_w.shape))\n"
   ]
  },
  {
   "cell_type": "code",
   "execution_count": 65,
   "outputs": [
    {
     "name": "stdout",
     "output_type": "stream",
     "text": [
      "Episode 1\tAverage Score: 134.00\n",
      "Episode 2\tAverage Score: 167.00\n",
      "Episode 3\tAverage Score: 178.00\n",
      "Episode 4\tAverage Score: 183.50\n",
      "Episode 5\tAverage Score: 186.80\n",
      "Episode 6\tAverage Score: 189.00\n",
      "Episode 7\tAverage Score: 190.57\n",
      "Episode 8\tAverage Score: 191.75\n",
      "Episode 9\tAverage Score: 192.67\n",
      "Episode 10\tAverage Score: 193.40\n",
      "Episode 11\tAverage Score: 194.00\n",
      "Episode 12\tAverage Score: 194.50\n",
      "Episode 13\tAverage Score: 194.92\n",
      "Episode 14\tAverage Score: 195.29\n",
      "Environment solved in 14 episodes!\tAverage Score: 195.29\n"
     ]
    }
   ],
   "source": [
    "agent = Agent(s_size, a_size, method=\"cross_ent\", pop_size=6, elite_frac=0.2)\n",
    "\n",
    "def hill_climbing(n_episodes=1000, max_t=1000, print_every=1):\n",
    "    \"\"\"Implementation of hill climbing with adaptive noise scaling.\n",
    "\n",
    "    Params\n",
    "    ======\n",
    "        n_episodes (int): maximum number of training episodes\n",
    "        max_t (int): maximum number of timesteps per episode\n",
    "        gamma (float): discount rate\n",
    "        print_every (int): how often to print average score (over last 100 episodes)\n",
    "        noise_scale (float): standard deviation of additive noise\n",
    "    \"\"\"\n",
    "    scores_deque = deque(maxlen=100)\n",
    "    scores = []\n",
    "    for i_episode in range(1, n_episodes+1):\n",
    "        initial_state = env.reset()   # Sets the initial state so that the agent can revisit it with different weights.\n",
    "        rewards = agent.simulate_episode(max_t,initial_state)\n",
    "        discounted_rewards = agent.apply_discounts(rewards,max_t)\n",
    "        agent.update(discounted_rewards, max_t, initial_state)\n",
    "\n",
    "        scores_deque.append(agent.best_R)\n",
    "        scores.append(agent.best_R)\n",
    "\n",
    "        if i_episode % print_every == 0:\n",
    "            print('Episode {}\\tAverage Score: {:.2f}'.format(i_episode, np.mean(scores_deque)))\n",
    "        if np.mean(scores_deque)>=195.0:\n",
    "            print('Environment solved in {:d} episodes!\\tAverage Score: {:.2f}'.format(i_episode, np.mean(scores_deque)))\n",
    "            #agent.policy.w = agent.best_w\n",
    "            break\n",
    "\n",
    "    return scores\n",
    "\n",
    "scores = hill_climbing()"
   ],
   "metadata": {
    "collapsed": false,
    "pycharm": {
     "name": "#%%\n"
    }
   }
  },
  {
   "cell_type": "markdown",
   "metadata": {},
   "source": [
    "### 4. Plot the Scores"
   ]
  },
  {
   "cell_type": "code",
   "execution_count": 61,
   "metadata": {},
   "outputs": [
    {
     "data": {
      "text/plain": "<Figure size 432x288 with 1 Axes>",
      "image/png": "[encoded data removed]"
     },
     "metadata": {
      "needs_background": "light"
     },
     "output_type": "display_data"
    }
   ],
   "source": [
    "fig = plt.figure()\n",
    "ax = fig.add_subplot(111)\n",
    "plt.plot(np.arange(1, len(scores)+1), scores)\n",
    "plt.ylabel('Score')\n",
    "plt.xlabel('Episode #')\n",
    "plt.show()"
   ]
  },
  {
   "cell_type": "markdown",
   "metadata": {},
   "source": [
    "### 5. Watch a Smart Agent!"
   ]
  },
  {
   "cell_type": "code",
   "execution_count": 49,
   "metadata": {},
   "outputs": [],
   "source": [
    "env = gym.make('CartPole-v0')\n",
    "state = env.reset()\n",
    "for t in range(200):\n",
    "    action = agent.act(state, 0)\n",
    "    env.render()\n",
    "    state, reward, done, _ = env.step(action)\n",
    "    if done:\n",
    "        break \n",
    "\n",
    "env.close()"
   ]
  }
 ],
 "metadata": {
  "anaconda-cloud": {},
  "kernelspec": {
   "display_name": "Python 3",
   "language": "python",
   "name": "python3"
  },
  "language_info": {
   "codemirror_mode": {
    "name": "ipython",
    "version": 3
   },
   "file_extension": ".py",
   "mimetype": "text/x-python",
   "name": "python",
   "nbconvert_exporter": "python",
   "pygments_lexer": "ipython3",
   "version": "3.6.4"
  }
 },
 "nbformat": 4,
 "nbformat_minor": 2
}